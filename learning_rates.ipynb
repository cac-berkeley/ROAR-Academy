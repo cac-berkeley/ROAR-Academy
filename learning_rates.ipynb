{
 "cells": [
  {
   "cell_type": "code",
   "execution_count": null,
   "metadata": {},
   "outputs": [],
   "source": [
    "#.0001\n",
    "#.01\n",
    "#.5\n",
    "\"\"\"if you choose a value too small you will take forever\"\"\"\n",
    "\"\"\"if you choose a value too large you might go past the limits of the graph\"\"\"\n",
    "\"\"\"even if you had infinite time and resources, you should still not choose too small of a value because of local minima.\"\"\""
   ]
  }
 ],
 "metadata": {
  "language_info": {
   "name": "python"
  }
 },
 "nbformat": 4,
 "nbformat_minor": 2
}
